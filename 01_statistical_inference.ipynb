{
 "cells": [
  {
   "cell_type": "markdown",
   "metadata": {
    "collapsed": true
   },
   "source": [
    "### What is statistical inference?"
   ]
  },
  {
   "cell_type": "markdown",
   "metadata": {},
   "source": [
    "* Broadly speaking, it is the process which involves taking our data to probabilistic conclusions about what we might expect if we collected the same data or took even more data, and we can make decisions based on these conclusions.\n",
    "* The data speaks in the language of probability which _precisely_ describes _uncertainty_."
   ]
  },
  {
   "cell_type": "markdown",
   "metadata": {},
   "source": [
    "### Story 1: How many times of getting 4 heads of out 4 flips, given that 'heads' has 50% chance of happening.\n",
    "### Let's think of simulating a coin flip\n",
    "- A coin flip (a simulated experiment) where the result is either True/1 (Heads) or False/0 (Tails) is referred to as a Bernoulli trial\n",
    "- We randomly draw a number between 0 and 1\n",
    "    - If the number we draw is less than 0.5 (which has 50% chance of happening), we say we got Heads\n",
    "    - Otherwise, we got Tails"
   ]
  },
  {
   "cell_type": "code",
   "execution_count": 49,
   "metadata": {},
   "outputs": [
    {
     "name": "stdout",
     "output_type": "stream",
     "text": [
      "The number of times we got 4 heads out of 4 flips is 0\n"
     ]
    }
   ],
   "source": [
    "import numpy as np\n",
    "np.random.seed(123)\n",
    "# A bernoulli trial\n",
    "def perform_coin_flip_trial(n, p):\n",
    "    # generate 4 random numbers for 4 coin flips\n",
    "    random_number = np.random.random(size=n)\n",
    "    heads = random_number < p\n",
    "    return int(np.sum(heads)==4)\n",
    "(n,p) = (4, 0.5)\n",
    "res = perform_coin_flip_trial(n, p)\n",
    "print('The number of times we got 4 heads out of {0} flips is {1}'.format(n, res))"
   ]
  },
  {
   "cell_type": "markdown",
   "metadata": {},
   "source": [
    "#### If we repeat the Bernoulli trial (4 coin flips) 1000 times, then what will the result look like?\n",
    "- Each trial is 4 coin flips and we have 1000 trials"
   ]
  },
  {
   "cell_type": "code",
   "execution_count": 47,
   "metadata": {},
   "outputs": [
    {
     "name": "stdout",
     "output_type": "stream",
     "text": [
      "The probability of getting 4 heads out of 4 flips, repeated 1000 times, is 0.058\n"
     ]
    }
   ],
   "source": [
    "import numpy as np\n",
    "# for the reproducible purpose\n",
    "np.random.seed(123)\n",
    "# initialize the number of getting 4 heads out of 4 flips for 1000 trials\n",
    "num_trials = 1000\n",
    "n = 4\n",
    "p = 0.5\n",
    "n_four_heads = np.zeros(num_trials)\n",
    "\n",
    "for i in range(num_trials):\n",
    "    n_four_heads[i] = perform_coin_flip_trial(n, p)\n",
    "\n",
    "res = np.sum(n_four_heads)/num_trials\n",
    "print('The probability of getting 4 heads out of {0} flips, repeated {1} times, is {2}'.format(n, num_trials, res))"
   ]
  },
  {
   "cell_type": "markdown",
   "metadata": {},
   "source": [
    "### Story 2: let's say a school gave 60 students a test. They would like to know the number of passed students, given that the probability of passing the test is _p_ = 0.2.\n",
    "### To investigate this, we will do a simulation:\n",
    "- For each student, we randomly draw a number between 0 and 1. If the number we draw is less than _p_=0.2 we say the student passes the test, otherwise the student fails\n",
    "- Each student is regarded as _a Bernoulli trial_ as the experiment where the result is either 1 (passed) or 0 (failed) is referred to as _a Bernoulli trial_\n",
    "- In our experiment, there are 60 students. Therefore we will perform _n_=60 Bernoulii trials corresponding to 60 students\n",
    "- Here is when statistical inference comes into play: the school would like to examine the performance of **other** 60 students. That means we will do this for another 50 Bernoulli trials. And again and again until we have tried it _t_ times/trials."
   ]
  },
  {
   "cell_type": "code",
   "execution_count": 2,
   "metadata": {},
   "outputs": [],
   "source": [
    "def ecdf(data):\n",
    "    x = sorted(data)\n",
    "    y = np.arange(1,len(data)+1)/len(data)\n",
    "    return x, y"
   ]
  },
  {
   "cell_type": "code",
   "execution_count": 68,
   "metadata": {},
   "outputs": [
    {
     "name": "stdout",
     "output_type": "stream",
     "text": [
      "With one simulation experiment, there are 6 out of 60 students who passed the test\n"
     ]
    },
    {
     "data": {
      "image/png": "[encoded data removed]",
      "text/plain": [
       "<Figure size 432x288 with 1 Axes>"
      ]
     },
     "metadata": {
      "needs_background": "light"
     },
     "output_type": "display_data"
    },
    {
     "data": {
      "image/png": "[encoded data removed]",
      "text/plain": [
       "<Figure size 432x288 with 1 Axes>"
      ]
     },
     "metadata": {
      "needs_background": "light"
     },
     "output_type": "display_data"
    }
   ],
   "source": [
    "import numpy as np\n",
    "import matplotlib.pyplot as plt\n",
    "\n",
    "# for the reproducible purpose\n",
    "np.random.seed(123)\n",
    "num_trials = 1000\n",
    "n = 60\n",
    "p = 0.2\n",
    "n_passed_students = np.empty(num_trials)\n",
    "\n",
    "# For 1 trial\n",
    "def perform_bernoulli_trial(n, p):\n",
    "    n_success = 0\n",
    "    # generate n random numbers corresponding to n students we examine\n",
    "    random_number = np.random.random(size=n)\n",
    "    # count the number of successes, that is less that probability p     \n",
    "    n_success = np.sum(random_number < p)\n",
    "    return n_success\n",
    "print('With one simulation experiment, there are {0} out of {1} students who passed the test'\n",
    "      .format(perform_bernoulli_trial(n, p), n))\n",
    "\n",
    "\n",
    "for i in range(num_trials):\n",
    "    n_passed_students[i] = perform_bernoulli_trial(n, p)\n",
    "\n",
    "# Here we plot the histogram describing the number of passed students\n",
    "_ = plt.hist(n_passed_students, normed = True)\n",
    "_ = plt.xlabel('The number of passed students out of 50 students')\n",
    "_ = plt.ylabel('Probability')\n",
    "_ = plt.title('The probability of getting passed students')\n",
    "plt.show()\n",
    "\n",
    "# If the school requires at least 15 passed students\n",
    "POINTS_THRESHOLD = 15\n",
    "_ = plt.hist(n_passed_students, normed=True, cumulative=True, histtype='step', bins=100)\n",
    "_ = plt.axvline(x=POINTS_THRESHOLD)\n",
    "_ = plt.xlabel('The number of passed students out of 50 students')\n",
    "_ = plt.ylabel('CDF')\n",
    "_ = plt.title('Empirical Cumulative Distribution Function (ECDF)')\n"
   ]
  },
  {
   "cell_type": "markdown",
   "metadata": {},
   "source": [
    "Based on the ECDF above we notice that the school has about 20% chance of obtaining that the threshold of 15 passed students."
   ]
  },
  {
   "cell_type": "code",
   "execution_count": 67,
   "metadata": {},
   "outputs": [
    {
     "name": "stdout",
     "output_type": "stream",
     "text": [
      "The probability of getting 15 passed students among 60 students is 0.202\n"
     ]
    }
   ],
   "source": [
    "# Verify\n",
    "prob = np.sum(n_passed_students>=POINTS_THRESHOLD)/num_trials\n",
    "print('The probability of getting 15 passed students among 60 students is {0}'.format(prob))"
   ]
  },
  {
   "cell_type": "markdown",
   "metadata": {},
   "source": [
    "### The two stories above are referred to as *Binomial Distribution*: the number of _r_ successes in _n_ Bernoulli trials with probability _p_ of success\n",
    "- In the first story: the number of heads (successes) in _n_=4 Bernoulli trials (coin flips) with probability _p_=0.5 of heads\n",
    "- In the second story: the number of passed students (successes) in _n_=60 Bernoulli trials (students' tests) with probability _p_=0.2 of being passed"
   ]
  },
  {
   "cell_type": "markdown",
   "metadata": {},
   "source": [
    "Story 1 is re-written like this:"
   ]
  },
  {
   "cell_type": "code",
   "execution_count": 3,
   "metadata": {},
   "outputs": [
    {
     "name": "stdout",
     "output_type": "stream",
     "text": [
      "The probability of getting 4 heads out of 4 flips is 0.06294\n"
     ]
    },
    {
     "data": {
      "image/png": "[encoded data removed]",
      "text/plain": [
       "<Figure size 432x288 with 1 Axes>"
      ]
     },
     "metadata": {},
     "output_type": "display_data"
    }
   ],
   "source": [
    "import numpy as np\n",
    "import matplotlib.pyplot as plt\n",
    "import seaborn as sns\n",
    "np.random.seed(123)\n",
    "num_trials = 100000\n",
    "(n, p) = (4, 0.5)\n",
    "samples = np.random.binomial(n, p, size=num_trials)\n",
    "np.sum(samples==4)\n",
    "print('The probability of getting {0} heads out of {1} flips is {2}'.format(n, n, np.sum(samples==4)/num_trials))\n",
    "\n",
    "sns.set()\n",
    "x, y = ecdf(samples)\n",
    "_ = plt.plot(x, y, marker='.', linestyle='none')\n",
    "_ = plt.xlabel(\"The number of successes\")\n",
    "_ = plt.ylabel(\"CDF\")\n",
    "plt.show()"
   ]
  },
  {
   "cell_type": "markdown",
   "metadata": {},
   "source": [
    "Story 2 is re-written:"
   ]
  },
  {
   "cell_type": "code",
   "execution_count": 4,
   "metadata": {},
   "outputs": [
    {
     "name": "stdout",
     "output_type": "stream",
     "text": [
      "The probability of getting at least 15 successful students out of 60 flips is 0.20591\n"
     ]
    },
    {
     "data": {
      "image/png": "[encoded data removed]",
      "text/plain": [
       "<Figure size 432x288 with 1 Axes>"
      ]
     },
     "metadata": {},
     "output_type": "display_data"
    }
   ],
   "source": [
    "import numpy as np\n",
    "import matplotlib.pyplot as plt\n",
    "import seaborn as sns\n",
    "sns.set()\n",
    "np.random.seed(123)\n",
    "num_trials = 100000\n",
    "(n, p) = (60, 0.2)\n",
    "samples = np.random.binomial(n, p, size=num_trials)\n",
    "\n",
    "def ecdf(data):\n",
    "    x = sorted(data)\n",
    "    y = np.arange(1,len(data)+1)/len(data)\n",
    "    return x, y\n",
    "\n",
    "\n",
    "POINTS_THRESHOLD = 15\n",
    "print('The probability of getting at least {0} successful students out of {1} flips is {2}'\n",
    "      .format(POINTS_THRESHOLD, n, np.sum(samples>=POINTS_THRESHOLD)/num_trials))\n",
    "x, y = ecdf(samples)\n",
    "_ = plt.plot(x, y, marker='.', linestyle='none')\n",
    "_ = plt.axvline(x=POINTS_THRESHOLD)\n",
    "_ = plt.xlabel(\"The number of successes\")\n",
    "_ = plt.ylabel(\"CDF\")\n",
    "plt.show()"
   ]
  },
  {
   "cell_type": "code",
   "execution_count": null,
   "metadata": {},
   "outputs": [],
   "source": []
  }
 ],
 "metadata": {
  "kernelspec": {
   "display_name": "Python 3",
   "language": "python",
   "name": "python3"
  },
  "language_info": {
   "codemirror_mode": {
    "name": "ipython",
    "version": 3
   },
   "file_extension": ".py",
   "mimetype": "text/x-python",
   "name": "python",
   "nbconvert_exporter": "python",
   "pygments_lexer": "ipython3",
   "version": "3.7.1"
  }
 },
 "nbformat": 4,
 "nbformat_minor": 1
}
